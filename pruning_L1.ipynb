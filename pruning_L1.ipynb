{
  "cells": [
    {
      "cell_type": "markdown",
      "metadata": {
        "id": "y-eC-sb34T9w"
      },
      "source": [
        "## Accelerate Inference: Neural Network Pruning"
      ]
    },
    {
      "cell_type": "code",
      "execution_count": 1,
      "metadata": {
        "colab": {
          "base_uri": "https://localhost:8080/"
        },
        "id": "L47XBZWm4T9x",
        "outputId": "4845f095-7910-4380-99d3-ee5e49fb1161"
      },
      "outputs": [
        {
          "name": "stdout",
          "output_type": "stream",
          "text": [
            "2.10.0\n"
          ]
        }
      ],
      "source": [
        "import os\n",
        "import numpy as np\n",
        "import cv2\n",
        "import matplotlib.pyplot as plt\n",
        "import pickle\n",
        "\n",
        "import tensorflow as tf\n",
        "from tensorflow import keras\n",
        "from tensorflow.keras import datasets, layers, models, regularizers\n",
        "from tensorflow.keras.layers import *\n",
        "\n",
        "print(tf.version.VERSION)"
      ]
    },
    {
      "cell_type": "code",
      "execution_count": 2,
      "metadata": {
        "colab": {
          "base_uri": "https://localhost:8080/"
        },
        "id": "V1FQTVeAuNiU",
        "outputId": "2c956ab4-95e2-4992-effa-e5659c69bfb8"
      },
      "outputs": [
        {
          "name": "stdout",
          "output_type": "stream",
          "text": [
            "x train_images.pkl\n",
            "x train_labels.pkl\n",
            "x val_images.pkl\n",
            "x val_labels.pkl\n"
          ]
        }
      ],
      "source": [
        "# untar\n",
        "!tar -xvzf dataset.tar.gz\n",
        "# load train\n",
        "train_images = pickle.load(open('train_images.pkl', 'rb'))\n",
        "train_labels = pickle.load(open('train_labels.pkl', 'rb'))\n",
        "# load val\n",
        "val_images = pickle.load(open('val_images.pkl', 'rb'))\n",
        "val_labels = pickle.load(open('val_labels.pkl', 'rb'))"
      ]
    },
    {
      "cell_type": "code",
      "execution_count": 3,
      "metadata": {
        "id": "KE9JuZDG4T94"
      },
      "outputs": [],
      "source": [
        "# Define the neural network architecture (don't change this)\n",
        "\n",
        "model = models.Sequential()\n",
        "model.add(Conv2D(32, (3, 3), padding='same', kernel_regularizer=regularizers.l2(1e-5), input_shape=(25,25,3)))\n",
        "model.add(Activation('relu'))\n",
        "model.add(Conv2D(32, (3, 3), kernel_regularizer=regularizers.l2(1e-5)))\n",
        "model.add(Activation('relu'))\n",
        "model.add(MaxPooling2D(pool_size=(2, 2)))\n",
        "model.add(Dropout(0.25))\n",
        "model.add(Conv2D(64, (3, 3), padding='same', kernel_regularizer=regularizers.l2(1e-5)))\n",
        "model.add(Activation('relu'))\n",
        "model.add(Conv2D(64, (3, 3), kernel_regularizer=regularizers.l2(1e-5)))\n",
        "model.add(Activation('relu'))\n",
        "model.add(MaxPooling2D(pool_size=(2, 2)))\n",
        "model.add(Dropout(0.25))\n",
        "model.add(Flatten())\n",
        "model.add(Dense(512))\n",
        "model.add(Activation('relu'))\n",
        "model.add(Dropout(0.5))\n",
        "model.add(Dense(5))\n",
        "model.add(Activation('softmax'))"
      ]
    },
    {
      "cell_type": "code",
      "execution_count": 4,
      "metadata": {
        "colab": {
          "base_uri": "https://localhost:8080/"
        },
        "id": "JTzcSoYl4T97",
        "outputId": "5949a8dd-b44a-47a7-fd0c-4b8ecb0fdc41"
      },
      "outputs": [
        {
          "name": "stdout",
          "output_type": "stream",
          "text": [
            "Model: \"sequential\"\n",
            "_________________________________________________________________\n",
            " Layer (type)                Output Shape              Param #   \n",
            "=================================================================\n",
            " conv2d (Conv2D)             (None, 25, 25, 32)        896       \n",
            "                                                                 \n",
            " activation (Activation)     (None, 25, 25, 32)        0         \n",
            "                                                                 \n",
            " conv2d_1 (Conv2D)           (None, 23, 23, 32)        9248      \n",
            "                                                                 \n",
            " activation_1 (Activation)   (None, 23, 23, 32)        0         \n",
            "                                                                 \n",
            " max_pooling2d (MaxPooling2D  (None, 11, 11, 32)       0         \n",
            " )                                                               \n",
            "                                                                 \n",
            " dropout (Dropout)           (None, 11, 11, 32)        0         \n",
            "                                                                 \n",
            " conv2d_2 (Conv2D)           (None, 11, 11, 64)        18496     \n",
            "                                                                 \n",
            " activation_2 (Activation)   (None, 11, 11, 64)        0         \n",
            "                                                                 \n",
            " conv2d_3 (Conv2D)           (None, 9, 9, 64)          36928     \n",
            "                                                                 \n",
            " activation_3 (Activation)   (None, 9, 9, 64)          0         \n",
            "                                                                 \n",
            " max_pooling2d_1 (MaxPooling  (None, 4, 4, 64)         0         \n",
            " 2D)                                                             \n",
            "                                                                 \n",
            " dropout_1 (Dropout)         (None, 4, 4, 64)          0         \n",
            "                                                                 \n",
            " flatten (Flatten)           (None, 1024)              0         \n",
            "                                                                 \n",
            " dense (Dense)               (None, 512)               524800    \n",
            "                                                                 \n",
            " activation_4 (Activation)   (None, 512)               0         \n",
            "                                                                 \n",
            " dropout_2 (Dropout)         (None, 512)               0         \n",
            "                                                                 \n",
            " dense_1 (Dense)             (None, 5)                 2565      \n",
            "                                                                 \n",
            " activation_5 (Activation)   (None, 5)                 0         \n",
            "                                                                 \n",
            "=================================================================\n",
            "Total params: 592,933\n",
            "Trainable params: 592,933\n",
            "Non-trainable params: 0\n",
            "_________________________________________________________________\n",
            "None\n"
          ]
        }
      ],
      "source": [
        "print(model.summary())"
      ]
    },
    {
      "cell_type": "code",
      "execution_count": 103,
      "metadata": {},
      "outputs": [
        {
          "name": "stdout",
          "output_type": "stream",
          "text": [
            "(1024, 512) (512,)\n",
            "(array([235, 481, 960, 491]), array([218, 217, 192, 218]))\n",
            "(4, 512) (4, 512)\n",
            "(512, 5) (5,)\n",
            "(array([315,  42,  15, 477]), array([4, 4, 4, 4]))\n",
            "(4, 5) (4, 5)\n",
            "315 4\n",
            "42 4\n",
            "15 4\n",
            "477 4\n"
          ]
        }
      ],
      "source": [
        "def get_indices_of_k_smallest(arr, k):\n",
        "        idx = np.argpartition(arr.ravel(), k)\n",
        "        return tuple(np.array(np.unravel_index(idx, arr.shape))[:, range(min(k, 0), max(k, 0))])\n",
        "        # if you want it in a list of indices . . . \n",
        "        # return np.array(np.unravel_index(idx, arr.shape))[:, range(k)].transpose().tolist()\n",
        "\n",
        "c = len(model.layers)\n",
        "for i in range(c):\n",
        "    name = model.layers[i].name\n",
        "    if(name.startswith(\"dense\")):\n",
        "        w1 = model.layers[i].get_weights()[0]\n",
        "        b = model.layers[i].get_weights()[1]\n",
        "        print(w1.shape, b.shape)\n",
        "        indices = get_indices_of_k_smallest(w1, 4)\n",
        "        print(indices)\n",
        "        print(w1[indices[0]].shape, w1[indices[1]].shape)\n",
        "    \n",
        "\n",
        "for i in range(len(indices[0])):\n",
        "    print(indices[0][i], indices[1][i])\n"
      ]
    },
    {
      "cell_type": "code",
      "execution_count": 5,
      "metadata": {
        "colab": {
          "base_uri": "https://localhost:8080/"
        },
        "id": "G9Nk_MAPqZPt",
        "outputId": "30f25f9c-0ac0-418e-aab1-bfde789e6ef0"
      },
      "outputs": [
        {
          "name": "stdout",
          "output_type": "stream",
          "text": [
            "Epoch 1/50\n"
          ]
        },
        {
          "name": "stderr",
          "output_type": "stream",
          "text": [
            "2022-11-30 15:40:53.381753: W tensorflow/core/platform/profile_utils/cpu_utils.cc:128] Failed to get CPU frequency: 0 Hz\n",
            "/Users/kelaba/mambaforge/envs/bioimage/lib/python3.9/site-packages/keras/backend.py:5582: UserWarning: \"`sparse_categorical_crossentropy` received `from_logits=True`, but the `output` argument was produced by a Softmax activation and thus does not represent logits. Was this intended?\n",
            "  output, from_logits = _get_logits(\n"
          ]
        },
        {
          "name": "stdout",
          "output_type": "stream",
          "text": [
            "703/703 [==============================] - 18s 25ms/step - loss: 1.5124 - accuracy: 0.3074 - val_loss: 1.3712 - val_accuracy: 0.4127\n",
            "Epoch 2/50\n",
            "703/703 [==============================] - 14s 19ms/step - loss: 1.3367 - accuracy: 0.4265 - val_loss: 1.2554 - val_accuracy: 0.4760\n",
            "Epoch 3/50\n",
            "703/703 [==============================] - 13s 18ms/step - loss: 1.2749 - accuracy: 0.4604 - val_loss: 1.2234 - val_accuracy: 0.4871\n",
            "Epoch 4/50\n",
            "703/703 [==============================] - 13s 18ms/step - loss: 1.2295 - accuracy: 0.4894 - val_loss: 1.1703 - val_accuracy: 0.5125\n",
            "Epoch 5/50\n",
            "703/703 [==============================] - 16s 23ms/step - loss: 1.1937 - accuracy: 0.5098 - val_loss: 1.1959 - val_accuracy: 0.4954\n",
            "Epoch 6/50\n",
            "703/703 [==============================] - 18s 26ms/step - loss: 1.1630 - accuracy: 0.5265 - val_loss: 1.1278 - val_accuracy: 0.5366\n",
            "Epoch 7/50\n",
            "703/703 [==============================] - 20s 29ms/step - loss: 1.1319 - accuracy: 0.5427 - val_loss: 1.0912 - val_accuracy: 0.5537\n",
            "Epoch 8/50\n",
            "703/703 [==============================] - 15s 21ms/step - loss: 1.1057 - accuracy: 0.5506 - val_loss: 1.0517 - val_accuracy: 0.5703\n",
            "Epoch 9/50\n",
            "703/703 [==============================] - 14s 21ms/step - loss: 1.0860 - accuracy: 0.5655 - val_loss: 1.0914 - val_accuracy: 0.5501\n",
            "Epoch 10/50\n",
            "703/703 [==============================] - 14s 20ms/step - loss: 1.0652 - accuracy: 0.5715 - val_loss: 1.0160 - val_accuracy: 0.5889\n",
            "Epoch 11/50\n",
            "703/703 [==============================] - 14s 20ms/step - loss: 1.0461 - accuracy: 0.5820 - val_loss: 1.0071 - val_accuracy: 0.5869\n",
            "Epoch 12/50\n",
            "703/703 [==============================] - 14s 20ms/step - loss: 1.0284 - accuracy: 0.5917 - val_loss: 0.9921 - val_accuracy: 0.5968\n",
            "Epoch 13/50\n",
            "703/703 [==============================] - 13s 19ms/step - loss: 1.0059 - accuracy: 0.6021 - val_loss: 0.9774 - val_accuracy: 0.6012\n",
            "Epoch 14/50\n",
            "703/703 [==============================] - 13s 19ms/step - loss: 0.9926 - accuracy: 0.6097 - val_loss: 0.9733 - val_accuracy: 0.6012\n",
            "Epoch 15/50\n",
            "703/703 [==============================] - 13s 18ms/step - loss: 0.9777 - accuracy: 0.6128 - val_loss: 0.9598 - val_accuracy: 0.6131\n",
            "Epoch 16/50\n",
            "703/703 [==============================] - 13s 18ms/step - loss: 0.9617 - accuracy: 0.6251 - val_loss: 0.9515 - val_accuracy: 0.6143\n",
            "Epoch 17/50\n",
            "703/703 [==============================] - 14s 20ms/step - loss: 0.9462 - accuracy: 0.6315 - val_loss: 0.9211 - val_accuracy: 0.6265\n",
            "Epoch 18/50\n",
            "703/703 [==============================] - 13s 19ms/step - loss: 0.9336 - accuracy: 0.6361 - val_loss: 0.9161 - val_accuracy: 0.6281\n",
            "Epoch 19/50\n",
            "703/703 [==============================] - 13s 18ms/step - loss: 0.9197 - accuracy: 0.6424 - val_loss: 0.8947 - val_accuracy: 0.6368\n",
            "Epoch 20/50\n",
            "703/703 [==============================] - 13s 18ms/step - loss: 0.9053 - accuracy: 0.6489 - val_loss: 0.8828 - val_accuracy: 0.6519\n",
            "Epoch 21/50\n",
            "703/703 [==============================] - 12s 17ms/step - loss: 0.8932 - accuracy: 0.6531 - val_loss: 0.8848 - val_accuracy: 0.6511\n",
            "Epoch 22/50\n",
            "703/703 [==============================] - 13s 18ms/step - loss: 0.8806 - accuracy: 0.6596 - val_loss: 0.8792 - val_accuracy: 0.6475\n",
            "Epoch 23/50\n",
            "703/703 [==============================] - 13s 18ms/step - loss: 0.8654 - accuracy: 0.6664 - val_loss: 0.8529 - val_accuracy: 0.6634\n",
            "Epoch 24/50\n",
            "703/703 [==============================] - 12s 18ms/step - loss: 0.8548 - accuracy: 0.6712 - val_loss: 0.8593 - val_accuracy: 0.6653\n",
            "Epoch 25/50\n",
            "703/703 [==============================] - 12s 17ms/step - loss: 0.8450 - accuracy: 0.6747 - val_loss: 0.8875 - val_accuracy: 0.6547\n",
            "Epoch 26/50\n",
            "703/703 [==============================] - 15s 22ms/step - loss: 0.8360 - accuracy: 0.6780 - val_loss: 0.8520 - val_accuracy: 0.6725\n",
            "Epoch 27/50\n",
            "703/703 [==============================] - 15s 22ms/step - loss: 0.8242 - accuracy: 0.6820 - val_loss: 0.8451 - val_accuracy: 0.6669\n",
            "Epoch 28/50\n",
            "703/703 [==============================] - 15s 22ms/step - loss: 0.8131 - accuracy: 0.6888 - val_loss: 0.8460 - val_accuracy: 0.6756\n",
            "Epoch 29/50\n",
            "703/703 [==============================] - 28s 40ms/step - loss: 0.8038 - accuracy: 0.6907 - val_loss: 0.8491 - val_accuracy: 0.6768\n",
            "Epoch 30/50\n",
            "703/703 [==============================] - 19s 27ms/step - loss: 0.7919 - accuracy: 0.6962 - val_loss: 0.8080 - val_accuracy: 0.6899\n",
            "Epoch 31/50\n",
            "703/703 [==============================] - 14s 19ms/step - loss: 0.7844 - accuracy: 0.6989 - val_loss: 0.8086 - val_accuracy: 0.6883\n",
            "Epoch 32/50\n",
            "703/703 [==============================] - 14s 20ms/step - loss: 0.7717 - accuracy: 0.7051 - val_loss: 0.8030 - val_accuracy: 0.6903\n",
            "Epoch 33/50\n",
            "703/703 [==============================] - 14s 20ms/step - loss: 0.7626 - accuracy: 0.7083 - val_loss: 0.8180 - val_accuracy: 0.6859\n",
            "Epoch 34/50\n",
            "703/703 [==============================] - 13s 19ms/step - loss: 0.7638 - accuracy: 0.7120 - val_loss: 0.7856 - val_accuracy: 0.6986\n",
            "Epoch 35/50\n",
            "703/703 [==============================] - 14s 20ms/step - loss: 0.7528 - accuracy: 0.7124 - val_loss: 0.8053 - val_accuracy: 0.6875\n",
            "Epoch 36/50\n",
            "703/703 [==============================] - 13s 19ms/step - loss: 0.7380 - accuracy: 0.7182 - val_loss: 0.7859 - val_accuracy: 0.7002\n",
            "Epoch 37/50\n",
            "703/703 [==============================] - 13s 18ms/step - loss: 0.7260 - accuracy: 0.7208 - val_loss: 0.7783 - val_accuracy: 0.6998\n",
            "Epoch 38/50\n",
            "703/703 [==============================] - 13s 18ms/step - loss: 0.7242 - accuracy: 0.7245 - val_loss: 0.7971 - val_accuracy: 0.6919\n",
            "Epoch 39/50\n",
            "703/703 [==============================] - 13s 18ms/step - loss: 0.7159 - accuracy: 0.7282 - val_loss: 0.7714 - val_accuracy: 0.7065\n",
            "Epoch 40/50\n",
            "703/703 [==============================] - 13s 19ms/step - loss: 0.7113 - accuracy: 0.7282 - val_loss: 0.7768 - val_accuracy: 0.7057\n",
            "Epoch 41/50\n",
            "703/703 [==============================] - 12s 18ms/step - loss: 0.7053 - accuracy: 0.7303 - val_loss: 0.7809 - val_accuracy: 0.7117\n",
            "Epoch 42/50\n",
            "703/703 [==============================] - 13s 18ms/step - loss: 0.6902 - accuracy: 0.7379 - val_loss: 0.7800 - val_accuracy: 0.7010\n",
            "Epoch 43/50\n",
            "703/703 [==============================] - 13s 18ms/step - loss: 0.6854 - accuracy: 0.7410 - val_loss: 0.7790 - val_accuracy: 0.7057\n",
            "Epoch 44/50\n",
            "703/703 [==============================] - 13s 18ms/step - loss: 0.6837 - accuracy: 0.7427 - val_loss: 0.7732 - val_accuracy: 0.7022\n",
            "Epoch 45/50\n",
            "703/703 [==============================] - 13s 18ms/step - loss: 0.6720 - accuracy: 0.7444 - val_loss: 0.7591 - val_accuracy: 0.7133\n",
            "Epoch 46/50\n",
            "703/703 [==============================] - 12s 17ms/step - loss: 0.6649 - accuracy: 0.7464 - val_loss: 0.7441 - val_accuracy: 0.7149\n",
            "Epoch 47/50\n",
            "703/703 [==============================] - 13s 19ms/step - loss: 0.6526 - accuracy: 0.7531 - val_loss: 0.7661 - val_accuracy: 0.7097\n",
            "Epoch 48/50\n",
            "703/703 [==============================] - 12s 18ms/step - loss: 0.6541 - accuracy: 0.7568 - val_loss: 0.7507 - val_accuracy: 0.7212\n",
            "Epoch 49/50\n",
            "703/703 [==============================] - 12s 17ms/step - loss: 0.6444 - accuracy: 0.7576 - val_loss: 0.7368 - val_accuracy: 0.7196\n",
            "Epoch 50/50\n",
            "703/703 [==============================] - 13s 18ms/step - loss: 0.6350 - accuracy: 0.7609 - val_loss: 0.7558 - val_accuracy: 0.7164\n"
          ]
        }
      ],
      "source": [
        "# you can use the default hyper-parameters for training, \n",
        "# and val accuracy ~59% after 25 epochs and > 63% after 50 epochs\n",
        "\n",
        "model.compile(optimizer=keras.optimizers.Adam(learning_rate=0.0001, decay=1e-6),\n",
        "              loss=tf.keras.losses.SparseCategoricalCrossentropy(from_logits=True),\n",
        "              metrics=['accuracy'])\n",
        "\n",
        "history = model.fit(train_images, train_labels, batch_size=32, epochs=50, \n",
        "                    validation_data=(val_images, val_labels)) # train for 50 epochs, with batch size 32"
      ]
    },
    {
      "cell_type": "code",
      "execution_count": 6,
      "metadata": {
        "colab": {
          "base_uri": "https://localhost:8080/"
        },
        "id": "vOhpP7M24T9_",
        "outputId": "1b320520-9868-4255-9b4f-96fd7f03b110"
      },
      "outputs": [
        {
          "name": "stdout",
          "output_type": "stream",
          "text": [
            "20/20 [==============================] - 1s 22ms/step - loss: 0.7558 - accuracy: 0.7164\n"
          ]
        }
      ],
      "source": [
        "results = model.evaluate(val_images, val_labels, batch_size=128)"
      ]
    },
    {
      "cell_type": "code",
      "execution_count": 170,
      "metadata": {
        "id": "vjw94aij4T-C"
      },
      "outputs": [],
      "source": [
        "import copy\n",
        "# perform pruning here\n",
        "'''\n",
        "f1 pruning\n",
        "stage wise pruning - set a single pruning rate for all layers in one stage\n",
        "'''\n",
        "def prune(model, conv_prune_rate, dense_prune_rate):\n",
        "\n",
        "    #print(\"hello from pruning\")\n",
        "    # print(model.layers)\n",
        "\n",
        "    conv_indices = [] #store conv layer indices\n",
        "    dense_indices = [] #store dense layer indices\n",
        "\n",
        "    c = len(model.layers)\n",
        "    for i in range(c):\n",
        "        name = model.layers[i].name\n",
        "        if(name.startswith(\"conv\")):\n",
        "            conv_indices.append(i)\n",
        "\n",
        "        if(name == \"dense\"):\n",
        "            dense_indices.append(i)\n",
        "\n",
        "    #additional: magnitude based pruning on the first dense layer\n",
        "    for i in dense_indices:\n",
        "        layer = model.layers[i]\n",
        "\n",
        "        w, b = layer.get_weights()[0], layer.get_weights()[1]\n",
        "        total = w.shape[0] * w.shape[1]\n",
        "        num_delete = (int(total * dense_prune_rate))\n",
        "        # print(\"num to delete: \", num_delete)\n",
        "        indices = get_indices_of_k_smallest(w, num_delete)\n",
        "        \n",
        "        for j in range(len(indices[0])):\n",
        "            x, y = indices[0][j], indices[1][j]\n",
        "            w[x][y] = 0\n",
        "        model.layers[i].set_weights([w,b]) \n",
        "\n",
        "    \n",
        "\n",
        "    #for i in indices:\n",
        "    for i in conv_indices: # loop thru convs\n",
        "        layer = model.layers[i]\n",
        "        w = layer.get_weights()[0] # shape h,w,c,f\n",
        "        num_filters = w.shape[-1]\n",
        "        # print(w.shape, \"num filters: \", num_filters)\n",
        "\n",
        "        weights_dict = {}\n",
        "        num_delete = (int(num_filters * conv_prune_rate))\n",
        "        #print(\"num filters to delete: \", num_delete)\n",
        "\n",
        "        l1_list = [] #store l1s\n",
        "        for j in range(num_filters):\n",
        "            l1 = np.sum(abs(w[:,]))\n",
        "            filt = f\"{j}\"\n",
        "            weights_dict[filt] = l1\n",
        "            l1_list.append(l1)\n",
        "        \n",
        "        weights_dict_sort = sorted(weights_dict.items(), key = lambda k: k[1])\n",
        "        # print(weights_dict_sort)\n",
        "\n",
        "        delete_indices = []\n",
        "        for l in range(num_delete):\n",
        "            delete_indices.append((int)(weights_dict_sort[l][0]))\n",
        "        \n",
        "        for k in delete_indices:\n",
        "            # print(layer.weights[0][:,:,:,i].shape)\n",
        "            model.layers[i].weights[0][:,:,:,k].assign(0)\n",
        "            # layer.weights[1][:].assign(0) #assign bias to 0?\n",
        "\n",
        "# get the weights \n",
        "# weights = model.get_weights()\n",
        "\n",
        "# you can use set_weights() to set some weights to zero, e.g.,\n",
        "# some references for pruning techniques: https://arxiv.org/pdf/1810.05270v2.pdf, https://arxiv.org/pdf/2001.04062.pdf\n",
        "\n",
        "# weights[7][:10]=0\n",
        "# model.set_weights(weights)\n"
      ]
    },
    {
      "cell_type": "code",
      "execution_count": 299,
      "metadata": {},
      "outputs": [
        {
          "name": "stdout",
          "output_type": "stream",
          "text": [
            "592933 44946 0.07580283101126097\n"
          ]
        }
      ],
      "source": [
        "#copy model + prune\n",
        "model2 = keras.models.clone_model(model)\n",
        "model2.build() # replace 10 with number of variables in input layer\n",
        "model2.compile(optimizer=keras.optimizers.Adam(learning_rate=0.0001, decay=1e-6),\n",
        "              loss=tf.keras.losses.SparseCategoricalCrossentropy(from_logits=True),\n",
        "              metrics=['accuracy'])\n",
        "model2.set_weights(model.get_weights())\n",
        "\n",
        "prune(model2, 0.7, 0.0)\n",
        "\n",
        "c = len(model2.layers)\n",
        "total_weights = 0\n",
        "zero_weights = 0\n",
        "all_model2_weights = model2.get_weights()\n",
        "for weight in all_model2_weights:\n",
        "  total_weights += weight.size\n",
        "  zero_weights += np.sum(weight == 0)\n",
        "\n",
        "\n",
        "print(total_weights, zero_weights, zero_weights/total_weights)"
      ]
    },
    {
      "cell_type": "code",
      "execution_count": 300,
      "metadata": {},
      "outputs": [
        {
          "name": "stdout",
          "output_type": "stream",
          "text": [
            "20/20 [==============================] - 0s 17ms/step - loss: 1.7600 - accuracy: 0.1952\n"
          ]
        }
      ],
      "source": [
        "# evaluate again to see how the accuracy changes\n",
        "results = model2.evaluate(val_images, val_labels, batch_size=128)"
      ]
    },
    {
      "cell_type": "code",
      "execution_count": 301,
      "metadata": {},
      "outputs": [
        {
          "name": "stdout",
          "output_type": "stream",
          "text": [
            "Epoch 1/50\n",
            "703/703 [==============================] - 14s 20ms/step - loss: 1.3445 - accuracy: 0.4255 - val_loss: 1.1890 - val_accuracy: 0.5093\n",
            "Epoch 2/50\n",
            "703/703 [==============================] - 13s 19ms/step - loss: 1.2067 - accuracy: 0.5034 - val_loss: 1.1383 - val_accuracy: 0.5414\n",
            "Epoch 3/50\n",
            "703/703 [==============================] - 13s 18ms/step - loss: 1.1451 - accuracy: 0.5373 - val_loss: 1.0648 - val_accuracy: 0.5743\n",
            "Epoch 4/50\n",
            "703/703 [==============================] - 13s 19ms/step - loss: 1.1019 - accuracy: 0.5554 - val_loss: 1.0342 - val_accuracy: 0.5905\n",
            "Epoch 5/50\n",
            "703/703 [==============================] - 15s 21ms/step - loss: 1.0723 - accuracy: 0.5679 - val_loss: 1.0022 - val_accuracy: 0.6067\n",
            "Epoch 6/50\n",
            "703/703 [==============================] - 22s 31ms/step - loss: 1.0336 - accuracy: 0.5927 - val_loss: 0.9600 - val_accuracy: 0.6190\n",
            "Epoch 7/50\n",
            "703/703 [==============================] - 20s 29ms/step - loss: 1.0031 - accuracy: 0.6017 - val_loss: 0.9519 - val_accuracy: 0.6218\n",
            "Epoch 8/50\n",
            "703/703 [==============================] - 14s 20ms/step - loss: 0.9770 - accuracy: 0.6158 - val_loss: 0.9210 - val_accuracy: 0.6352\n",
            "Epoch 9/50\n",
            "703/703 [==============================] - 14s 20ms/step - loss: 0.9558 - accuracy: 0.6271 - val_loss: 0.9148 - val_accuracy: 0.6356\n",
            "Epoch 10/50\n",
            "703/703 [==============================] - 13s 19ms/step - loss: 0.9315 - accuracy: 0.6364 - val_loss: 0.8768 - val_accuracy: 0.6487\n",
            "Epoch 11/50\n",
            "703/703 [==============================] - 13s 18ms/step - loss: 0.9147 - accuracy: 0.6465 - val_loss: 0.8758 - val_accuracy: 0.6543\n",
            "Epoch 12/50\n",
            "703/703 [==============================] - 13s 18ms/step - loss: 0.8979 - accuracy: 0.6520 - val_loss: 0.8821 - val_accuracy: 0.6543\n",
            "Epoch 13/50\n",
            "703/703 [==============================] - 15s 21ms/step - loss: 0.8874 - accuracy: 0.6544 - val_loss: 0.8628 - val_accuracy: 0.6598\n",
            "Epoch 14/50\n",
            "703/703 [==============================] - 13s 18ms/step - loss: 0.8738 - accuracy: 0.6607 - val_loss: 0.8495 - val_accuracy: 0.6673\n",
            "Epoch 15/50\n",
            "703/703 [==============================] - 13s 18ms/step - loss: 0.8592 - accuracy: 0.6671 - val_loss: 0.8359 - val_accuracy: 0.6745\n",
            "Epoch 16/50\n",
            "703/703 [==============================] - 12s 18ms/step - loss: 0.8421 - accuracy: 0.6767 - val_loss: 0.8288 - val_accuracy: 0.6697\n",
            "Epoch 17/50\n",
            "703/703 [==============================] - 12s 18ms/step - loss: 0.8313 - accuracy: 0.6785 - val_loss: 0.8254 - val_accuracy: 0.6784\n",
            "Epoch 18/50\n",
            "703/703 [==============================] - 14s 19ms/step - loss: 0.8212 - accuracy: 0.6821 - val_loss: 0.8168 - val_accuracy: 0.6828\n",
            "Epoch 19/50\n",
            "703/703 [==============================] - 12s 17ms/step - loss: 0.8174 - accuracy: 0.6851 - val_loss: 0.8018 - val_accuracy: 0.6848\n",
            "Epoch 20/50\n",
            "703/703 [==============================] - 12s 18ms/step - loss: 0.8038 - accuracy: 0.6912 - val_loss: 0.7966 - val_accuracy: 0.6851\n",
            "Epoch 21/50\n",
            "703/703 [==============================] - 19s 27ms/step - loss: 0.7905 - accuracy: 0.6960 - val_loss: 0.8080 - val_accuracy: 0.6863\n",
            "Epoch 22/50\n",
            "703/703 [==============================] - 17s 24ms/step - loss: 0.7854 - accuracy: 0.7006 - val_loss: 0.7832 - val_accuracy: 0.6982\n",
            "Epoch 23/50\n",
            "703/703 [==============================] - 13s 18ms/step - loss: 0.7787 - accuracy: 0.7022 - val_loss: 0.7931 - val_accuracy: 0.6867\n",
            "Epoch 24/50\n",
            "703/703 [==============================] - 13s 18ms/step - loss: 0.7734 - accuracy: 0.7052 - val_loss: 0.8186 - val_accuracy: 0.6812\n",
            "Epoch 25/50\n",
            "703/703 [==============================] - 13s 18ms/step - loss: 0.7614 - accuracy: 0.7093 - val_loss: 0.7777 - val_accuracy: 0.6998\n",
            "Epoch 26/50\n",
            "703/703 [==============================] - 14s 21ms/step - loss: 0.7567 - accuracy: 0.7091 - val_loss: 0.7763 - val_accuracy: 0.6982\n",
            "Epoch 27/50\n",
            "703/703 [==============================] - 17s 25ms/step - loss: 0.7458 - accuracy: 0.7160 - val_loss: 0.7681 - val_accuracy: 0.7042\n",
            "Epoch 28/50\n",
            "703/703 [==============================] - 17s 24ms/step - loss: 0.7327 - accuracy: 0.7229 - val_loss: 0.7670 - val_accuracy: 0.7026\n",
            "Epoch 29/50\n",
            "703/703 [==============================] - 14s 20ms/step - loss: 0.7355 - accuracy: 0.7195 - val_loss: 0.7645 - val_accuracy: 0.7053\n",
            "Epoch 30/50\n",
            "703/703 [==============================] - 14s 20ms/step - loss: 0.7277 - accuracy: 0.7222 - val_loss: 0.7496 - val_accuracy: 0.7172\n",
            "Epoch 31/50\n",
            "703/703 [==============================] - 13s 19ms/step - loss: 0.7155 - accuracy: 0.7315 - val_loss: 0.7623 - val_accuracy: 0.7057\n",
            "Epoch 32/50\n",
            "703/703 [==============================] - 13s 18ms/step - loss: 0.7140 - accuracy: 0.7286 - val_loss: 0.7598 - val_accuracy: 0.7050\n",
            "Epoch 33/50\n",
            "703/703 [==============================] - 13s 18ms/step - loss: 0.7010 - accuracy: 0.7344 - val_loss: 0.7572 - val_accuracy: 0.7093\n",
            "Epoch 34/50\n",
            "703/703 [==============================] - 13s 18ms/step - loss: 0.7000 - accuracy: 0.7362 - val_loss: 0.7487 - val_accuracy: 0.7137\n",
            "Epoch 35/50\n",
            "703/703 [==============================] - 13s 19ms/step - loss: 0.6938 - accuracy: 0.7361 - val_loss: 0.7480 - val_accuracy: 0.7156\n",
            "Epoch 36/50\n",
            "703/703 [==============================] - 13s 18ms/step - loss: 0.6858 - accuracy: 0.7411 - val_loss: 0.7805 - val_accuracy: 0.6962\n",
            "Epoch 37/50\n",
            "703/703 [==============================] - 13s 18ms/step - loss: 0.6790 - accuracy: 0.7432 - val_loss: 0.7383 - val_accuracy: 0.7216\n",
            "Epoch 38/50\n",
            "703/703 [==============================] - 13s 18ms/step - loss: 0.6780 - accuracy: 0.7436 - val_loss: 0.7398 - val_accuracy: 0.7236\n",
            "Epoch 39/50\n",
            "703/703 [==============================] - 13s 18ms/step - loss: 0.6677 - accuracy: 0.7483 - val_loss: 0.7439 - val_accuracy: 0.7133\n",
            "Epoch 40/50\n",
            "703/703 [==============================] - 13s 19ms/step - loss: 0.6612 - accuracy: 0.7503 - val_loss: 0.7565 - val_accuracy: 0.7113\n",
            "Epoch 41/50\n",
            "703/703 [==============================] - 13s 18ms/step - loss: 0.6626 - accuracy: 0.7495 - val_loss: 0.7336 - val_accuracy: 0.7240\n",
            "Epoch 42/50\n",
            "703/703 [==============================] - 13s 18ms/step - loss: 0.6552 - accuracy: 0.7543 - val_loss: 0.7247 - val_accuracy: 0.7291\n",
            "Epoch 43/50\n",
            "703/703 [==============================] - 13s 18ms/step - loss: 0.6425 - accuracy: 0.7584 - val_loss: 0.7383 - val_accuracy: 0.7168\n",
            "Epoch 44/50\n",
            "703/703 [==============================] - 13s 18ms/step - loss: 0.6389 - accuracy: 0.7598 - val_loss: 0.7367 - val_accuracy: 0.7196\n",
            "Epoch 45/50\n",
            "703/703 [==============================] - 13s 18ms/step - loss: 0.6327 - accuracy: 0.7620 - val_loss: 0.7179 - val_accuracy: 0.7287\n",
            "Epoch 46/50\n",
            "703/703 [==============================] - 12s 18ms/step - loss: 0.6298 - accuracy: 0.7630 - val_loss: 0.7329 - val_accuracy: 0.7275\n",
            "Epoch 47/50\n",
            "703/703 [==============================] - 12s 17ms/step - loss: 0.6238 - accuracy: 0.7624 - val_loss: 0.7504 - val_accuracy: 0.7184\n",
            "Epoch 48/50\n",
            "703/703 [==============================] - 12s 18ms/step - loss: 0.6186 - accuracy: 0.7705 - val_loss: 0.7316 - val_accuracy: 0.7287\n",
            "Epoch 49/50\n",
            "703/703 [==============================] - 14s 19ms/step - loss: 0.6147 - accuracy: 0.7690 - val_loss: 0.7213 - val_accuracy: 0.7271\n",
            "Epoch 50/50\n",
            "703/703 [==============================] - 14s 21ms/step - loss: 0.6115 - accuracy: 0.7726 - val_loss: 0.7342 - val_accuracy: 0.7200\n"
          ]
        }
      ],
      "source": [
        "#train again with pruned\n",
        "\n",
        "model2.compile(optimizer=keras.optimizers.Adam(learning_rate=0.0001, decay=1e-6),\n",
        "              loss=tf.keras.losses.SparseCategoricalCrossentropy(from_logits=True),\n",
        "              metrics=['accuracy'])\n",
        "\n",
        "history = model2.fit(train_images, train_labels, batch_size=32, epochs=50, \n",
        "                    validation_data=(val_images, val_labels)) # train for 50 epochs, with batch size 32"
      ]
    },
    {
      "cell_type": "code",
      "execution_count": 316,
      "metadata": {},
      "outputs": [
        {
          "name": "stdout",
          "output_type": "stream",
          "text": [
            "20/20 [==============================] - 0s 17ms/step - loss: 0.7342 - accuracy: 0.7200\n"
          ]
        }
      ],
      "source": [
        "#before pruning dense\n",
        "results = model2.evaluate(val_images, val_labels, batch_size=128)"
      ]
    },
    {
      "cell_type": "code",
      "execution_count": 358,
      "metadata": {},
      "outputs": [
        {
          "name": "stdout",
          "output_type": "stream",
          "text": [
            "592933 149036 0.25135386291537154\n"
          ]
        }
      ],
      "source": [
        "model3 = keras.models.clone_model(model2)\n",
        "model3.build() # replace 10 with number of variables in input layer\n",
        "model3.compile(optimizer=keras.optimizers.Adam(learning_rate=0.0001, decay=1e-6),\n",
        "              loss=tf.keras.losses.SparseCategoricalCrossentropy(from_logits=True),\n",
        "              metrics=['accuracy'])\n",
        "model3.set_weights(model2.get_weights())\n",
        "\n",
        "prune(model3, 0.0, 0.25)\n",
        "\n",
        "c = len(model3.layers)\n",
        "total_weights = 0\n",
        "zero_weights = 0\n",
        "all_model3_weights = model3.get_weights()\n",
        "for weight in all_model3_weights:\n",
        "  total_weights += weight.size\n",
        "  zero_weights += np.sum(weight == 0)\n",
        "\n",
        "\n",
        "print(total_weights, zero_weights, zero_weights/total_weights)"
      ]
    },
    {
      "cell_type": "markdown",
      "metadata": {},
      "source": []
    },
    {
      "cell_type": "code",
      "execution_count": 359,
      "metadata": {},
      "outputs": [
        {
          "name": "stdout",
          "output_type": "stream",
          "text": [
            "20/20 [==============================] - 1s 27ms/step - loss: 1.1344 - accuracy: 0.6337\n"
          ]
        }
      ],
      "source": [
        "# evaluate again to see how the accuracy changes\n",
        "results = model3.evaluate(val_images, val_labels, batch_size=128)"
      ]
    },
    {
      "cell_type": "code",
      "execution_count": 326,
      "metadata": {},
      "outputs": [
        {
          "name": "stdout",
          "output_type": "stream",
          "text": [
            "0.7134508843326312\n"
          ]
        }
      ],
      "source": [
        "print(( 0.6008 + zero_weights/total_weights)/2)"
      ]
    },
    {
      "cell_type": "code",
      "execution_count": 258,
      "metadata": {
        "colab": {
          "base_uri": "https://localhost:8080/",
          "height": 17
        },
        "id": "wMSKQW4k4T-G",
        "outputId": "dd51500d-60c2-4774-e477-3933e6f323fc"
      },
      "outputs": [],
      "source": [
        "# you need to save the model's weights, naming it 'my_model_weights.h5'\n",
        "model3.save_weights(\"my_model_weights_50_35.h5\")\n",
        "\n",
        "# # running this cell will immediately download a file called 'my_model_weights.h5'\n",
        "# from google.colab import files\n",
        "# files.download(\"my_model_weights.h5\")"
      ]
    },
    {
      "cell_type": "code",
      "execution_count": 360,
      "metadata": {},
      "outputs": [],
      "source": [
        "#accuracy vs sparsity curve:\n",
        "spa = [0.05711, 0.0674545016, 0.072357, 0.077791, 0.08468, 0.089585163, 0.095019, 0.09921, 0.105355]\n",
        "acc = [0.7434, 0.7267, 0.7315, 0.7347, 0.7156, 0.7121, 0.7109, 0.6582, 0.6235]\n",
        "\n",
        "spa_50 = [0.019823487645315743, 0.0640342163448484, 0.10824494504438106, 0.15245736027510698, 0.19666808897463964, 0.24088050420536553, 0.2850912329048982, 0.32930196160443087]\n",
        "acc_50 = [0.7323, 0.6954, 0.6752, 0.6463, 0.6368, 0.6135, 0.6166, 0.6135]\n",
        "\n",
        "spa_70 = [0.030296846355321764, 0.11871830375438709, 0.20714144768464565, 0.25135386291537154, 0.2955645916149042, 0.33977532031443686, 0.3839877355451628, 0.4724108794754213, 0.5608323368744866]\n",
        "acc_70 = [0.7200, 0.6669, 0.6475, 0.6337, 0.6206, 0.6139, 0.6087, 0.6063, 0.6079]\n"
      ]
    },
    {
      "cell_type": "code",
      "execution_count": 42,
      "metadata": {},
      "outputs": [],
      "source": [
        "import matplotlib.pyplot as plt"
      ]
    },
    {
      "cell_type": "code",
      "execution_count": 59,
      "metadata": {},
      "outputs": [],
      "source": [
        "mag_spar=[0.0019951664016001807, 0.012362273646432227, 0.022729380891264275, 0.03455702414944015, 0.044924131394272204, 0.05728640504070443, 0.06765351228553648, 0.07802061953036853, 0.08984826278854441, 0.10021537003337645, 0.10632229948409011]\n",
        "\n",
        "mag_acc=[0.7017821669578552, 0.7152475118637085, 0.6914851665496826, 0.6716831922531128, 0.6685148477554321, 0.6273267269134521, 0.5948514938354492, 0.569504976272583, 0.5172277092933655, 0.437227725982666, 0.19207920134067535]\n",
        "\n",
        "ThiNet_acc = [0.6828, 0.6760, 0.66376239, 0.6788, 0.6246, 0.635247528553009, 0.6368317008018494, 0.6190099120140076, 0.6455445289611816, 0.5916831493377686]\n",
        "ThiNet_spar = [0.358563, 0.360, 0.361447246, 0.403465, 0.40432898827, 0.53932906416, 0.540771048, 0.5853882310480274, 0.5867239637530716, 0.6288484533665692]"
      ]
    },
    {
      "cell_type": "code",
      "execution_count": 364,
      "metadata": {},
      "outputs": [
        {
          "data": {
            "image/png": "[encoded data removed]",
            "text/plain": [
              "<Figure size 640x480 with 1 Axes>"
            ]
          },
          "metadata": {},
          "output_type": "display_data"
        }
      ],
      "source": [
        "plt.plot(spa_70, acc_70)\n",
        "plt.plot(mag_spar, mag_acc)\n",
        "plt.plot(ThiNet_spar, ThiNet_acc)\n",
        "plt.xlabel('sparsity')\n",
        "plt.ylabel('accuracy')\n",
        "plt.title('Sparsity vs Accuracy: After Dense Pruning')\n",
        "plt.legend(['L1-Norm (70%)', 'Magnitude based', 'ThiNet'])\n",
        "plt.show()"
      ]
    },
    {
      "cell_type": "code",
      "execution_count": null,
      "metadata": {},
      "outputs": [],
      "source": []
    }
  ],
  "metadata": {
    "accelerator": "GPU",
    "colab": {
      "provenance": []
    },
    "kernelspec": {
      "display_name": "Python 3.9.13 ('bioimage')",
      "language": "python",
      "name": "python3"
    },
    "language_info": {
      "codemirror_mode": {
        "name": "ipython",
        "version": 3
      },
      "file_extension": ".py",
      "mimetype": "text/x-python",
      "name": "python",
      "nbconvert_exporter": "python",
      "pygments_lexer": "ipython3",
      "version": "3.9.13"
    },
    "vscode": {
      "interpreter": {
        "hash": "ea60e39e41cb5f972aeea0d91b3f1356a90c0c1cec13235e9cf42bf76c36d728"
      }
    }
  },
  "nbformat": 4,
  "nbformat_minor": 0
}
